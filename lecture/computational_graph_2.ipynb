{
 "cells": [
  {
   "cell_type": "code",
   "execution_count": null,
   "metadata": {
    "collapsed": true
   },
   "outputs": [],
   "source": [
    "import os\n",
    "import numpy as np\n",
    "import tensorflow as tf\n",
    "\n",
    "from show_graph import *"
   ]
  },
  {
   "cell_type": "code",
   "execution_count": null,
   "metadata": {
    "collapsed": false,
    "scrolled": false
   },
   "outputs": [],
   "source": [
    "v = 2\n",
    "print(v)\n",
    "v = 10\n",
    "print(v)\n",
    "\n",
    "c = tf.constant(10)\n",
    "print(type(c))\n",
    "v1 = tf.Variable(5)\n",
    "print(type(v1))\n",
    "\n",
    "r = c + v1\n",
    "print(type(r))\n",
    "\n",
    "op = tf.assign(v1, 20)\n",
    "\n",
    "\n",
    "with tf.Session() as sess:\n",
    "    print(sess.run(op))\n",
    "    print(sess.run(r))\n",
    "#assign = tf.assign(v, 10)\n"
   ]
  },
  {
   "cell_type": "code",
   "execution_count": null,
   "metadata": {
    "collapsed": false
   },
   "outputs": [],
   "source": [
    "tf.reset_default_graph()\n",
    "\n",
    "v = tf.Variable(2)\n",
    "\n",
    "init_op = v.initializer\n",
    "assign_op = tf.assign(v, 10, name='assign_op')\n",
    "\n",
    "with tf.Session() as sess:\n",
    "  sess.run(init_op)\n",
    "  print(sess.run(v))\n",
    "\n",
    "  sess.run(assign_op)\n",
    "  print(sess.run(v))\n",
    "\n",
    "show_graph(tf.get_default_graph().as_graph_def())"
   ]
  },
  {
   "cell_type": "code",
   "execution_count": null,
   "metadata": {
    "collapsed": false
   },
   "outputs": [],
   "source": [
    "def constant(c):\n",
    "    return lambda: c\n",
    "\n",
    "def eval(t):\n",
    "    if type(t) is dict:\n",
    "        return eval(lambda: t['val'])\n",
    "    return t()\n",
    "\n",
    "def run_op(op):\n",
    "  op()\n",
    "\n",
    "def variable(init_val):\n",
    "  v = {}\n",
    "  def init_op():\n",
    "    v['val'] = eval(init_val)\n",
    "\n",
    "  return v, init_op\n",
    "\n",
    "def assign_variable(v, value):\n",
    "  def assign():\n",
    "    v['val'] = eval(value)\n",
    "  return assign\n",
    "\n",
    "v, init_v1 = variable(constant(2))\n",
    "assign_op = assign_variable(v, constant(10))\n",
    "\n",
    "run_op(init_v1)\n",
    "print(eval(v))\n",
    "\n",
    "run_op(assign_op)\n",
    "print(eval(v))"
   ]
  },
  {
   "cell_type": "code",
   "execution_count": null,
   "metadata": {
    "collapsed": false
   },
   "outputs": [],
   "source": [
    "tf.reset_default_graph()\n",
    "\n",
    "c1 = tf.constant(5., name='c1')\n",
    "c2 = tf.constant(1., name='c2')\n",
    "y = tf.constant(11., name='y')\n",
    "v = tf.Variable(0., name='v')\n",
    "\n",
    "r = c1 * v + c2\n",
    "loss = tf.square(r - y, 'loss')\n",
    "\n",
    "optimizer = tf.train.GradientDescentOptimizer(0.01)\n",
    "step = optimizer.minimize(loss, name='minimize')\n",
    "\n",
    "init_op = tf.global_variables_initializer()\n",
    "\n",
    "with tf.Session() as sess:\n",
    "  sess.run(init_op)\n",
    "  print('before:', sess.run(r))\n",
    "  for _ in range(20):\n",
    "    sess.run(step)\n",
    "  print('after:', sess.run(r))\n",
    "\n",
    "show_graph(tf.get_default_graph().as_graph_def())"
   ]
  }
 ],
 "metadata": {
  "kernelspec": {
   "display_name": "Python 2 (r0.12 CPU)",
   "language": "python",
   "name": "python2-r0.12-cpu"
  },
  "language_info": {
   "codemirror_mode": {
    "name": "ipython",
    "version": 2
   },
   "file_extension": ".py",
   "mimetype": "text/x-python",
   "name": "python",
   "nbconvert_exporter": "python",
   "pygments_lexer": "ipython2",
   "version": "2.7.12"
  }
 },
 "nbformat": 4,
 "nbformat_minor": 2
}
