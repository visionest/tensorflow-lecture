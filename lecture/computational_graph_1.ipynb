{
 "cells": [
  {
   "cell_type": "markdown",
   "metadata": {},
   "source": [
    "## Computational Graph\n",
    "\n",
    "텐서플로우는 계산(computation)과 상태(state)를 하나의 통합된 데이터 흐름 그래프(unified dataflow graph)로 표현한다.\n",
    "그래프의 노드(node)는 연산(operation)을 표현하고, 엣지(edge)는 연산자 간에 전달되는 데이터(tensorflow에서는 tensor라고 부름)를 나타낸다.\n",
    "\n",
    "텐서플로우의 그래프는 계산에 대한 표현이다. 실제로 계산을 수행하기 위해서는 그래프가 세션(Session)에 런칭(launch)되어야 한다. 세션은 GPU, CPU 등의 디바이스를 이용하여 그래프의 연산을 실행한다.\n",
    "\n",
    "이 notebook에서는 일반적인 파이썬 코드로 표현한 계산과 텐서플로우로 표현한 계산의 차이점에 대한 \"느낌적인 느낌\"을 이해함으로써 텐서플로우의 계산 그래프에 대해 알아보겠다."
   ]
  },
  {
   "cell_type": "markdown",
   "metadata": {},
   "source": [
    "#### Notebook을 ipynb 파일이 위치한 경로에서 실행할 것!!!"
   ]
  },
  {
   "cell_type": "code",
   "execution_count": null,
   "metadata": {
    "collapsed": false
   },
   "outputs": [],
   "source": [
    "import os\n",
    "import numpy as np\n",
    "import tensorflow as tf\n",
    "\n",
    "print(os.getcwd())\n",
    "# Notebook을 ipynb 파일이 위치한 경로에서 실행할 것!!!\n",
    "from show_graph import *\n"
   ]
  },
  {
   "cell_type": "markdown",
   "metadata": {},
   "source": [
    "### 상수\n",
    "\n",
    "프로그램에서 상수는 수정될 수 없는 값이다. 여기에는 리터럴(literal)이나 불변 변수(constant variable) 등이 포함되는데, 파이썬에는 불변 변수가 존재하지 않으므로 여기서는 리터럴으로만 이야기 한다."
   ]
  },
  {
   "cell_type": "code",
   "execution_count": null,
   "metadata": {
    "collapsed": false
   },
   "outputs": [],
   "source": [
    "3       # 정수 리터럴 3을 출력\n",
    "\"abc\"   # 문자열 리터럴 \"abc\"\n",
    "\n",
    "print(3)\n",
    "print(\"abc\")"
   ]
  },
  {
   "cell_type": "markdown",
   "metadata": {},
   "source": [
    "상수를 함수로 생각해보면 3은 호출했을 때, 항상 3을 반환하는 함수, \"abc\"는 호출했을 때 항상 \"abc\"를 반환하는 함수로 표현할 수 있다. "
   ]
  },
  {
   "cell_type": "code",
   "execution_count": null,
   "metadata": {
    "collapsed": false
   },
   "outputs": [],
   "source": [
    "def three():\n",
    "    return 3\n",
    "# 또는\n",
    "three = lambda: 3\n",
    "\n",
    "def abc():\n",
    "    return \"abc\"\n",
    "# 또는\n",
    "abc = lambda: \"abc\""
   ]
  },
  {
   "cell_type": "markdown",
   "metadata": {},
   "source": [
    "동일한 패턴이므로 상수를 함수로 변환하는 constant라는 함수로 만들어보자."
   ]
  },
  {
   "cell_type": "code",
   "execution_count": null,
   "metadata": {
    "collapsed": false
   },
   "outputs": [],
   "source": [
    "def constant(c):\n",
    "    return lambda: c\n",
    "\n",
    "three = constant(3)\n",
    "abc = constant(\"abc\")\n",
    "\n",
    "print(three)\n",
    "print(abc)"
   ]
  },
  {
   "cell_type": "markdown",
   "metadata": {},
   "source": [
    "이제 3은 *3을 반환하는 함수*로 표현되었다. 따라서 three를 출력하면 3대신 알수 없는 문자열이 출력되며, 3을 출력하기 위해서는 three를 먼저 평가(evaluation)해야 한다. 이를 평가하는 eval이라는 함수를 만들어보자."
   ]
  },
  {
   "cell_type": "code",
   "execution_count": null,
   "metadata": {
    "collapsed": false
   },
   "outputs": [],
   "source": [
    "def eval(t):\n",
    "    return t()\n",
    "\n",
    "print(eval(three))\n",
    "print(eval(abc))"
   ]
  },
  {
   "cell_type": "markdown",
   "metadata": {},
   "source": [
    "함수 버전에서 constant 함수는 호출되었을 때 3 또는 abc를 반환하는 **연산**을 만들었다. **연산의 결과**는 eval함수에 three, abc등의 변수를 전달하여 얻을 수 있었다. "
   ]
  },
  {
   "cell_type": "markdown",
   "metadata": {},
   "source": [
    "두 코드 비교..."
   ]
  },
  {
   "cell_type": "code",
   "execution_count": null,
   "metadata": {
    "collapsed": false
   },
   "outputs": [],
   "source": [
    "# 상수 리터럴\n",
    "3\n",
    "\"abc\"\n",
    "print('literal:', 3)\n",
    "print('literal:', \"abc\")\n",
    "\n",
    "# 함수로 표현\n",
    "three = constant(3)\n",
    "abc = constant(\"abc\")\n",
    "print('function:', eval(three))\n",
    "print('functions:', eval(abc))\n"
   ]
  },
  {
   "cell_type": "markdown",
   "metadata": {},
   "source": [
    "동일한 코드를 텐서플로우로 표현해보자."
   ]
  },
  {
   "cell_type": "code",
   "execution_count": null,
   "metadata": {
    "collapsed": false
   },
   "outputs": [],
   "source": [
    "tf.reset_default_graph()\n",
    "\n",
    "tf_three = tf.constant(3)\n",
    "tf_abc = tf.constant(\"abc\")\n",
    "print(tf_three)\n",
    "print(tf_abc)\n",
    "\n",
    "with tf.Session() as sess:\n",
    "    print('tf:', sess.run(tf_three))\n",
    "    print('tf:', sess.run(tf_abc))"
   ]
  },
  {
   "cell_type": "markdown",
   "metadata": {},
   "source": [
    "함수 버전과 마찬가지로 tf.constant 함수는 3 또는 abc를 반환하는 연산을 만든다. 그리고 연산의 결과에 대한 핸들(Handle)을 반환한다. 연산의 결과는 세션의 run 함수에 이 핸들을 전달하여 얻을 수 있다."
   ]
  },
  {
   "cell_type": "markdown",
   "metadata": {},
   "source": [
    "### 사칙연산\n",
    "\n",
    "#### 함수 표현"
   ]
  },
  {
   "cell_type": "code",
   "execution_count": null,
   "metadata": {
    "collapsed": false
   },
   "outputs": [],
   "source": [
    "def add(t1, t2):\n",
    "    # return lambda: eval(t1) + eval(t2)\n",
    "    def f():\n",
    "        print('add')\n",
    "        return eval(t1) + eval(t2)\n",
    "    return f\n",
    "\n",
    "def sub(t1, t2):\n",
    "    # return lambda: eval(t1) - eval(t2)\n",
    "    def f():\n",
    "        print('sub')\n",
    "        return eval(t1) - eval(t2)\n",
    "    return f\n",
    "\n",
    "def mul(t1, t2):\n",
    "    # return lambda: eval(t1) * eval(t2)\n",
    "    def f():\n",
    "        print('mul')\n",
    "        return eval(t1) * eval(t2)\n",
    "    return f\n",
    "\n",
    "def div(t1, t2):\n",
    "    # return lambda: eval(t1) / eval(t2)\n",
    "    def f():\n",
    "        print('div')\n",
    "        return eval(t1) / eval(t2)\n",
    "    return f\n",
    "\n",
    "t1 = constant(1)\n",
    "t2 = constant(2)\n",
    "t3 = constant(3)\n",
    "t4 = constant(4)\n",
    "\n",
    "# t3 = t1 + t2      # TypeError: unsupported operand type(s) for +: 'function' and 'function'\n",
    "r1 = add(t1, t2)\n",
    "r2 = mul(t1, t2)\n",
    "r3 = sub(r2, r1)\n",
    "\n",
    "print('evaluation r3')\n",
    "print(eval(r3))\n",
    "\n",
    "print('evaluation r2')\n",
    "print(eval(r2))\n"
   ]
  },
  {
   "cell_type": "markdown",
   "metadata": {},
   "source": [
    "#### 텐서플로우 구현"
   ]
  },
  {
   "cell_type": "code",
   "execution_count": null,
   "metadata": {
    "collapsed": false
   },
   "outputs": [],
   "source": [
    "tf.reset_default_graph()\n",
    "\n",
    "t1 = tf.constant(1)\n",
    "t2 = tf.constant(2)\n",
    "t3 = tf.constant(3)\n",
    "t4 = tf.constant(4)\n",
    "\n",
    "# t3 = t1 + t2      # TypeError: unsupported operand type(s) for +: 'function' and 'function'\n",
    "r1 = tf.add(t1, t2)\n",
    "r2 = tf.mul(t1, t2)\n",
    "r3 = tf.sub(r2, r1)\n",
    "\n",
    "with tf.Session() as sess:\n",
    "  print('evaluation')\n",
    "  print(sess.run(r3))\n",
    "    \n",
    "show_graph(tf.get_default_graph().as_graph_def())"
   ]
  },
  {
   "cell_type": "markdown",
   "metadata": {},
   "source": [
    "### 질문\n",
    "\n",
    "다음 코드는 함수 또는 텐서플로우 표현으로 어떻게 구현될 수 있을까?\n",
    "\n",
    "```\n",
    "a = 3\n",
    "b = 10\n",
    "c = 20\n",
    "\n",
    "if a < 5:\n",
    "  print(b)\n",
    "else:\n",
    "  print(c)\n",
    "```"
   ]
  },
  {
   "cell_type": "markdown",
   "metadata": {},
   "source": [
    "### Feeding / Placeholder\n",
    "\n",
    "위 예제의 계산 그래프는 항상 동일한 결과를 출력한다. 계산 그래프를 실제로 유용하게 만들려면 입력값을 그래프에 전달할 수 있어야 한다."
   ]
  },
  {
   "cell_type": "markdown",
   "metadata": {},
   "source": [
    "위의 constant 연산은 항상 동일한 값을 반환하는 연산이었다. 이번엔 입력값을 그대로 출력하는 함수를 생각해보자.\n",
    "입력 값을 전달할 수 있어야하므로 eval 함수도 약간 수정하겠다."
   ]
  },
  {
   "cell_type": "code",
   "execution_count": null,
   "metadata": {
    "collapsed": false
   },
   "outputs": [],
   "source": [
    "def eval(t, feed_dict=None):\n",
    "    if feed_dict == None:\n",
    "        return t()\n",
    "    if t in feed_dict.keys():\n",
    "        return t(feed_dict[t], feed_dict)\n",
    "    return t(feed_dict)\n",
    "        \n",
    "def identity():\n",
    "    return lambda x, _: x\n",
    "placeholder = identity\n",
    "\n",
    "t1 = placeholder()\n",
    "t2 = placeholder()\n",
    "\n",
    "print(eval(t1, feed_dict={t1: 1}))\n",
    "print(eval(t2, feed_dict={t2: 2}))"
   ]
  },
  {
   "cell_type": "markdown",
   "metadata": {},
   "source": [
    "동일한 코드를 텐서플로우로 구현해보자"
   ]
  },
  {
   "cell_type": "code",
   "execution_count": null,
   "metadata": {
    "collapsed": false
   },
   "outputs": [],
   "source": [
    "tf.reset_default_graph()\n",
    "\n",
    "t1 = tf.placeholder(dtype=tf.int32)\n",
    "t2 = tf.placeholder(dtype=tf.int32)\n",
    "\n",
    "with tf.Session() as sess:\n",
    "    print(sess.run(t1, feed_dict={t1: 1}))\n",
    "    print(sess.run(t2, feed_dict={t2: 2}))"
   ]
  },
  {
   "cell_type": "markdown",
   "metadata": {},
   "source": [
    "조금복잡한(?) 아래의 수식을 그래프로 구성해보자.\n",
    "\n",
    "> f(x) = 3 * x + 4"
   ]
  },
  {
   "cell_type": "code",
   "execution_count": null,
   "metadata": {
    "collapsed": false
   },
   "outputs": [],
   "source": [
    "def constant(c):\n",
    "    return lambda _: c \n",
    "    \n",
    "def add(t1, t2):\n",
    "    return lambda feed_dict: eval(t1, feed_dict) + eval(t2, feed_dict)\n",
    "\n",
    "def mul(t1, t2, feed_dict=None):\n",
    "    return lambda feed_dict: eval(t1, feed_dict) * eval(t2, feed_dict)\n",
    "\n",
    "c1 = constant(3)\n",
    "c2 = constant(4)\n",
    "x = placeholder()\n",
    "\n",
    "y = add(mul(c1, x), c2)\n",
    "print('function version')\n",
    "print('----------------')\n",
    "print(eval(y, feed_dict={x: 0}))\n",
    "print(eval(y, feed_dict={x: 1}))\n",
    "\n",
    "tf.reset_default_graph()\n",
    "\n",
    "c1 = tf.constant(3)\n",
    "c2 = tf.constant(4)\n",
    "x = tf.placeholder(dtype=tf.int32)\n",
    "\n",
    "y = tf.add(tf.mul(c1, x), c2)\n",
    "\n",
    "with tf.Session() as sess:\n",
    "    print('tensorflow version')\n",
    "    print('------------------')\n",
    "    print(sess.run(y, feed_dict={x: 0}))\n",
    "    print(sess.run(y, feed_dict={x: 1}))\n",
    "    \n",
    "show_graph(tf.get_default_graph().as_graph_def())"
   ]
  },
  {
   "cell_type": "code",
   "execution_count": null,
   "metadata": {
    "collapsed": false,
    "scrolled": false
   },
   "outputs": [],
   "source": [
    "tf.reset_default_graph()\n",
    "\n",
    "c1 = tf.constant(3)\n",
    "c2 = tf.constant(4)\n",
    "c3 = tf.constant(4)\n",
    "\n",
    "x = tf.placeholder(dtype=tf.int32)\n",
    "y = tf.placeholder(dtype=tf.int32)\n",
    "\n",
    "z = tf.add(tf.mul(c1, x), c2)\n",
    "w = tf.add(tf.mul(c2, y), c3)\n",
    "\n",
    "with tf.Session() as sess:\n",
    "    print('tensorflow version')\n",
    "    print('------------------')\n",
    "    print(sess.run(z, feed_dict={x: 0}))\n",
    "    print(sess.run(w, feed_dict={y: 1}))\n",
    "    \n",
    "show_graph(tf.get_default_graph().as_graph_def())\n"
   ]
  }
 ],
 "metadata": {
  "anaconda-cloud": {},
  "kernelspec": {
   "display_name": "Python [conda root]",
   "language": "python",
   "name": "conda-root-py"
  },
  "language_info": {
   "codemirror_mode": {
    "name": "ipython",
    "version": 3
   },
   "file_extension": ".py",
   "mimetype": "text/x-python",
   "name": "python",
   "nbconvert_exporter": "python",
   "pygments_lexer": "ipython3",
   "version": "3.5.2"
  }
 },
 "nbformat": 4,
 "nbformat_minor": 1
}
