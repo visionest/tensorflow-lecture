{
 "cells": [
  {
   "cell_type": "markdown",
   "metadata": {},
   "source": [
    "### Higher-order functions\n",
    "\n",
    "수학과 컴퓨터 과학에서, 고차함수는 아래 조건 중 하나 이상을 따르는 함수를 말한다.\n",
    "* 하나 이상의 함수를 인자로 받는다.\n",
    "* 하나의 함수를 결과로 반환한다.\n",
    "\n",
    "> In mathematics and computer science, a higher-order function (also functional, functional form or functor) is a function that does at least one of the following:\n",
    "\n",
    "> * takes one or more functions as arguments (i.e., procedural parameters),\n",
    "> * returns a function as its result.[disputed – discuss]\n",
    "\n",
    "[[Higer-order function from Wikipedia](https://en.wikipedia.org/wiki/Higher-order_function))]"
   ]
  },
  {
   "cell_type": "markdown",
   "metadata": {},
   "source": [
    "#### 파이썬 예제\n",
    "*** TODO: 아래 코드를 이해해주세요. ***"
   ]
  },
  {
   "cell_type": "code",
   "execution_count": null,
   "metadata": {
    "collapsed": false
   },
   "outputs": [],
   "source": [
    "def twice(f):\n",
    "    return lambda x: f(f(x))\n",
    "\n",
    "def f(x):\n",
    "    return x + 3\n",
    "\n",
    "g = twice(f)\n",
    "print(g(7))"
   ]
  },
  {
   "cell_type": "markdown",
   "metadata": {},
   "source": [
    "#### 문제 1\n",
    "다음과 같은 결과가 출력되도록 **pass** 부분의 코드를 완성해주세요.\n",
    "\n",
    "> a: 3\n",
    "\n",
    "> b: abc"
   ]
  },
  {
   "cell_type": "code",
   "execution_count": null,
   "metadata": {
    "collapsed": false
   },
   "outputs": [],
   "source": [
    "a = pass   # TODO\n",
    "b = pass   # TODO\n",
    "\n",
    "print('a: ', a())\n",
    "print('b: ', b())"
   ]
  },
  {
   "cell_type": "markdown",
   "metadata": {},
   "source": [
    "#### 문제 2\n",
    "**문제 1**과 동일한 결과가 출력되도록 **pass** 부분의 코드를 완성해주세요."
   ]
  },
  {
   "cell_type": "code",
   "execution_count": null,
   "metadata": {
    "collapsed": false
   },
   "outputs": [],
   "source": [
    "def constant(v):\n",
    "    pass   # TODO\n",
    "\n",
    "a = constant(3)\n",
    "b = constant(\"abc\")\n",
    "\n",
    "print('a: ', a())\n",
    "print('b: ', b())"
   ]
  },
  {
   "cell_type": "markdown",
   "metadata": {},
   "source": [
    "#### 문제 3\n",
    "다음과 같은 결과가 출력되도록 **pass** 부분의 코드를 완성해주세요.\n",
    "\n",
    "> add(a, b):  5\n",
    "\n",
    "> mul(a, b): 6\n",
    "\n",
    "> mul(add(a, b), a): 15"
   ]
  },
  {
   "cell_type": "code",
   "execution_count": null,
   "metadata": {
    "collapsed": false
   },
   "outputs": [],
   "source": [
    "def add(v1, v2):\n",
    "    pass   # TODO\n",
    "\n",
    "def mul(v1, v2):\n",
    "    pass   # TODO\n",
    "\n",
    "a = constant(3)\n",
    "b = constant(2)\n",
    "\n",
    "c = add(a, b)\n",
    "d = mul(a, b)\n",
    "e = mul(add(a, b), a)\n",
    "\n",
    "print('add(a,b): ', c())\n",
    "print('mul(a,b): ', d())\n",
    "print('mul(add(a, b), a): ', e())\n"
   ]
  }
 ],
 "metadata": {
  "anaconda-cloud": {},
  "kernelspec": {
   "display_name": "Python [conda root]",
   "language": "python",
   "name": "conda-root-py"
  },
  "language_info": {
   "codemirror_mode": {
    "name": "ipython",
    "version": 3
   },
   "file_extension": ".py",
   "mimetype": "text/x-python",
   "name": "python",
   "nbconvert_exporter": "python",
   "pygments_lexer": "ipython3",
   "version": "3.5.2"
  }
 },
 "nbformat": 4,
 "nbformat_minor": 1
}
