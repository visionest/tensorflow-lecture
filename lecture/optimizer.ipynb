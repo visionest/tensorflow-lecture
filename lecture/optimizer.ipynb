{
 "cells": [
  {
   "cell_type": "code",
   "execution_count": null,
   "metadata": {
    "collapsed": true
   },
   "outputs": [],
   "source": [
    "import os\n",
    "import numpy as np\n",
    "import tensorflow as tf\n",
    "\n",
    "from show_graph import *"
   ]
  },
  {
   "cell_type": "code",
   "execution_count": null,
   "metadata": {
    "collapsed": false
   },
   "outputs": [],
   "source": [
    "tf.reset_default_graph()\n",
    "\n",
    "c = tf.constant(5., name='c')\n",
    "y = tf.constant(10., name='y')\n",
    "v = tf.Variable(0., name='v')\n",
    "\n",
    "r = c * v\n",
    "loss = tf.square(r - y, 'loss')\n",
    "\n",
    "optimizer = tf.train.GradientDescentOptimizer(0.01)\n",
    "step = optimizer.minimize(loss, name='minimize')\n",
    "\n",
    "init_op = tf.global_variables_initializer()\n",
    "\n",
    "with tf.Session() as sess:\n",
    "  sess.run(init_op)\n",
    "  print('before:', sess.run(r))\n",
    "  for _ in range(20):\n",
    "    sess.run(step)\n",
    "  print('after:', sess.run(r))\n",
    "\n",
    "show_graph(tf.get_default_graph().as_graph_def())"
   ]
  },
  {
   "cell_type": "code",
   "execution_count": null,
   "metadata": {
    "collapsed": false
   },
   "outputs": [],
   "source": [
    "tf.reset_default_graph()\n",
    "\n",
    "c = tf.constant(5., name='c')\n",
    "y = tf.constant(10., name='y')\n",
    "v = tf.Variable(0., name='v')\n",
    "\n",
    "r = c * v\n",
    "loss = tf.square(r - y, 'loss')\n",
    "\n",
    "optimizer = tf.train.GradientDescentOptimizer(0.02)\n",
    "gradients = optimizer.compute_gradients(loss)\n",
    "update_op = optimizer.apply_gradients(gradients, name='update_op')\n",
    "\n",
    "init_op = tf.global_variables_initializer()\n",
    "\n",
    "with tf.Session() as sess:\n",
    "  sess.run(init_op)\n",
    "  print('before:', sess.run(r))\n",
    "  for _ in range(20):\n",
    "    sess.run(update_op)\n",
    "  print('after:', sess.run(r))\n",
    "\n",
    "show_graph(tf.get_default_graph().as_graph_def())"
   ]
  },
  {
   "cell_type": "code",
   "execution_count": null,
   "metadata": {
    "collapsed": false,
    "scrolled": false
   },
   "outputs": [],
   "source": [
    "tf.reset_default_graph()\n",
    "\n",
    "c = tf.constant(5., name='c')\n",
    "y = tf.constant(10., name='y')\n",
    "v = tf.Variable(0., name='v')\n",
    "g = tf.Variable(0., trainable=False, name='g')\n",
    "\n",
    "r = c * v\n",
    "loss = tf.square(r - y, 'loss')\n",
    "\n",
    "optimizer = tf.train.GradientDescentOptimizer(0.002)\n",
    "gradients = optimizer.compute_gradients(loss)\n",
    "\n",
    "reset_op = tf.assign(g, 0.)\n",
    "acc_op = tf.assign_add(g, gradients[0][0])\n",
    "\n",
    "update_op = optimizer.apply_gradients([(g,v)])\n",
    "\n",
    "init_op = tf.global_variables_initializer()\n",
    "\n",
    "with tf.Session() as sess:\n",
    "  sess.run(init_op)\n",
    "  print('before:', sess.run(r))\n",
    "  for i in range(40):\n",
    "    sess.run(acc_op)\n",
    "    print('{} step: {}'.format(i, sess.run([r, g])))\n",
    "    if i % 2 == 0:\n",
    "        sess.run(update_op)\n",
    "        sess.run(reset_op)\n",
    "    \n",
    "  print('after:', sess.run(r))\n",
    "\n",
    "show_graph(tf.get_default_graph().as_graph_def())"
   ]
  },
  {
   "cell_type": "code",
   "execution_count": null,
   "metadata": {
    "collapsed": false
   },
   "outputs": [],
   "source": [
    "tf.reset_default_graph()\n",
    "\n",
    "c = tf.constant(5., name='c')\n",
    "y = tf.constant(10., name='y')\n",
    "v = tf.Variable(0., name='v')\n",
    "acc_grads = tf.Variable(0., trainable=False, name='acc_grads')\n",
    "counter = tf.Variable(0, trainable=False, name='counter')\n",
    "\n",
    "r = c * v\n",
    "loss = tf.square(r - y, 'loss')\n",
    "\n",
    "optimizer = tf.train.GradientDescentOptimizer(0.002)\n",
    "gradients = optimizer.compute_gradients(loss)\n",
    "\n",
    "acc_op = tf.assign_add(acc_grads, gradients[0][0])\n",
    "apply_op = optimizer.apply_gradients([(acc_grads,v)])\n",
    "with tf.control_dependencies([apply_op]):\n",
    "  update_op = tf.assign(acc_grads, 0.)\n",
    "\n",
    "reset_counter_op = tf.assign(counter, 0)\n",
    "inc_counter_op = tf.assign_add(counter, 1)\n",
    "\n",
    "step = tf.cond(tf.greater(counter, 1),\n",
    "               lambda: tf.group(acc_op, inc_counter_op),\n",
    "               lambda: tf.group(update_op, reset_counter_op))\n",
    "\n",
    "init_op = tf.global_variables_initializer()\n",
    "\n",
    "with tf.Session() as sess:\n",
    "  sess.run(init_op)\n",
    "  print('before:', sess.run(r))\n",
    "  for i in range(40):\n",
    "    print('{} step: {}'.format(i, sess.run([r, acc_grads, counter])))\n",
    "    sess.run(step)\n",
    "    \n",
    "  print('after:', sess.run(r))\n"
   ]
  }
 ],
 "metadata": {
  "kernelspec": {
   "display_name": "Python 2",
   "language": "python",
   "name": "python2"
  },
  "language_info": {
   "codemirror_mode": {
    "name": "ipython",
    "version": 2
   },
   "file_extension": ".py",
   "mimetype": "text/x-python",
   "name": "python",
   "nbconvert_exporter": "python",
   "pygments_lexer": "ipython2",
   "version": "2.7.12"
  }
 },
 "nbformat": 4,
 "nbformat_minor": 2
}
