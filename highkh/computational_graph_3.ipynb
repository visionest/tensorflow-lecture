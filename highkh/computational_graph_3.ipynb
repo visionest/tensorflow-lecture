{
 "cells": [
  {
   "cell_type": "code",
   "execution_count": null,
   "metadata": {
    "collapsed": true
   },
   "outputs": [],
   "source": [
    "import os\n",
    "import numpy as np\n",
    "import tensorflow as tf\n",
    "\n",
    "from show_graph import *"
   ]
  },
  {
   "cell_type": "code",
   "execution_count": null,
   "metadata": {
    "collapsed": false
   },
   "outputs": [],
   "source": [
    "tf.reset_default_graph()\n",
    "\n",
    "var_list = []\n",
    "v = None\n",
    "for _ in range(1000):\n",
    "  if v is None:\n",
    "    v = tf.Variable(1)\n",
    "  else:\n",
    "    v = tf.Variable(v)\n",
    "  var_list.append(v)\n",
    "\n",
    "init_op = tf.global_variables_initializer()\n",
    "\n",
    "sess = tf.Session()\n",
    "sess.run(init_op)\n",
    "\n",
    "acc = 0\n",
    "for v in var_list:\n",
    "  acc += sess.run(v)\n",
    "print(acc)\n"
   ]
  },
  {
   "cell_type": "code",
   "execution_count": null,
   "metadata": {
    "collapsed": false
   },
   "outputs": [],
   "source": [
    "tf.reset_default_graph()\n",
    "\n",
    "var_list = []\n",
    "v = None\n",
    "for _ in range(1000):\n",
    "  if v is None:\n",
    "    v = tf.Variable(1)\n",
    "  else:\n",
    "    v = tf.Variable(v.initialized_value())\n",
    "  var_list.append(v)\n",
    "\n",
    "init_op = tf.global_variables_initializer()\n",
    "\n",
    "sess = tf.Session()\n",
    "sess.run(init_op)\n",
    "\n",
    "acc = 0\n",
    "for v in var_list:\n",
    "  acc += sess.run(v)\n",
    "print(acc)\n"
   ]
  },
  {
   "cell_type": "code",
   "execution_count": null,
   "metadata": {
    "collapsed": false
   },
   "outputs": [],
   "source": [
    "import random\n",
    "\n",
    "def random_flip(data):\n",
    "  if random.random() > 0.5:\n",
    "    return list(reversed(data))\n",
    "  else:\n",
    "    return data\n",
    "\n",
    "arr = [1,2,3]\n",
    "for _ in range(10):\n",
    "  print(random_flip(arr))\n"
   ]
  },
  {
   "cell_type": "code",
   "execution_count": null,
   "metadata": {
    "collapsed": false
   },
   "outputs": [],
   "source": [
    "tf.reset_default_graph()\n",
    "\n",
    "arr = tf.constant([1,2,3])\n",
    "r = tf.random_uniform((1,))[0]\n",
    "random_flip = tf.cond(tf.greater(r, 0.5),\n",
    "                      lambda: tf.reverse(arr, (True,), name='rev'),\n",
    "                      lambda: tf.identity(arr, name='id'),\n",
    "                      name='cond')\n",
    "\n",
    "sess = tf.Session()\n",
    "for _ in range(10):\n",
    "  print(sess.run(random_flip))\n",
    "\n",
    "show_graph(tf.get_default_graph().as_graph_def())"
   ]
  },
  {
   "cell_type": "code",
   "execution_count": null,
   "metadata": {
    "collapsed": false
   },
   "outputs": [],
   "source": [
    "tf.reset_default_graph()\n",
    "\n",
    "c = tf.constant(5., name='c')\n",
    "y = tf.constant(10., name='y')\n",
    "v = tf.Variable(0., name='v')\n",
    "\n",
    "r = c * v\n",
    "loss = tf.square(r - y, 'loss')\n",
    "\n",
    "optimizer = tf.train.GradientDescentOptimizer(0.01)\n",
    "step = optimizer.minimize(loss, name='minimize')\n",
    "\n",
    "init_op = tf.global_variables_initializer()\n",
    "\n",
    "with tf.Session() as sess:\n",
    "  sess.run(init_op)\n",
    "  print('before:', sess.run(r))\n",
    "  for _ in range(20):\n",
    "    sess.run(step)\n",
    "  print('after:', sess.run(r))\n",
    "\n",
    "show_graph(tf.get_default_graph().as_graph_def())"
   ]
  },
  {
   "cell_type": "code",
   "execution_count": null,
   "metadata": {
    "collapsed": true
   },
   "outputs": [],
   "source": []
  }
 ],
 "metadata": {
  "kernelspec": {
   "display_name": "Python [conda env:tensorflow-2.7]",
   "language": "python",
   "name": "conda-env-tensorflow-2.7-py"
  },
  "language_info": {
   "codemirror_mode": {
    "name": "ipython",
    "version": 2
   },
   "file_extension": ".py",
   "mimetype": "text/x-python",
   "name": "python",
   "nbconvert_exporter": "python",
   "pygments_lexer": "ipython2",
   "version": "2.7.12"
  }
 },
 "nbformat": 4,
 "nbformat_minor": 1
}
